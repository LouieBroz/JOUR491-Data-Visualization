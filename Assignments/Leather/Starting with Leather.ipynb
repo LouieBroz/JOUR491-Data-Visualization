{
 "cells": [
  {
   "cell_type": "markdown",
   "metadata": {},
   "source": [
    "# First Charts with Leather\n",
    "\n",
    "Before you start Jupyter Notebook, you should start by installing leather. So `source activate homework` and then type `pip install leather`\n",
    "and you should be good to go.\n",
    "\n",
    "Leather is a very simple -- but not terribly well documented yet -- charting library. It will give us our first foray into charts. We will use others as well.\n",
    "\n",
    "As usual, the first line is always to import the library."
   ]
  },
  {
   "cell_type": "code",
   "execution_count": 1,
   "metadata": {
    "collapsed": true
   },
   "outputs": [],
   "source": [
    "import leather"
   ]
  },
  {
   "cell_type": "markdown",
   "metadata": {},
   "source": [
    "Leather works with very simple Python data structures -- lists of tuples, primarily. So if your data isn't a list of tuples, we'll have to get there eventually. For now, we're just going to hard code our data."
   ]
  },
  {
   "cell_type": "code",
   "execution_count": 2,
   "metadata": {
    "collapsed": true
   },
   "outputs": [],
   "source": [
    "data = [\n",
    "    (3, 'Hello'),\n",
    "    (5, 'How'),\n",
    "    (9, 'Are'),\n",
    "    (4, 'You')\n",
    "]"
   ]
  },
  {
   "cell_type": "markdown",
   "metadata": {},
   "source": [
    "Now we need to create the chart. First thing we do is create a Leather Chart object, which is essentially a blank slate, and we give it a title. \n",
    "\n",
    "Our data, because of the structure of a number and a label, can make a chart with a type of Bars or Columns."
   ]
  },
  {
   "cell_type": "code",
   "execution_count": 3,
   "metadata": {
    "collapsed": true
   },
   "outputs": [],
   "source": [
    "chart = leather.Chart('Bars')"
   ]
  },
  {
   "cell_type": "markdown",
   "metadata": {},
   "source": [
    "Now that we've created a blank chart object, we need to add bars to it. Which is as easy as it sounds."
   ]
  },
  {
   "cell_type": "code",
   "execution_count": 4,
   "metadata": {
    "collapsed": true
   },
   "outputs": [],
   "source": [
    "chart.add_bars(data)"
   ]
  },
  {
   "cell_type": "markdown",
   "metadata": {},
   "source": [
    "Now we have to render it out. Leather renders charts out as SVG files, which can be edited in Illustrator or any other vector editor. Or, in Jupyter Notebooks, it can be output to the screen by not specifying a directory for it to be output into. "
   ]
  },
  {
   "cell_type": "code",
   "execution_count": 5,
   "metadata": {
    "collapsed": false
   },
   "outputs": [
    {
     "data": {
      "image/svg+xml": [
       "<svg height=\"600\" version=\"1.1\" width=\"800\" xmlns=\"http://www.w3.org/2000/svg\"><g><rect fill=\"#f9f9f9\" height=\"600\" width=\"800\" x=\"0\" y=\"0\"/><g transform=\"translate(40 40)\"><g transform=\"translate(48 0)\"><text fill=\"#333\" font-family=\"Monaco\" font-size=\"16\" x=\"0\" y=\"0\">Bars</text></g><g transform=\"translate(0 20)\"><g transform=\"translate(48 0)\"><g class=\"axis bottom\"><text dy=\"1em\" fill=\"#666\" font-family=\"Monaco\" text-anchor=\"middle\" transform=\"\" x=\"336.0\" y=\"508.0\"/><g class=\"tick\"><line stroke=\"#a8a8a8\" stroke-width=\"1\" x1=\"0.0\" x2=\"0.0\" y1=\"0\" y2=\"482.0\"/><text dy=\"1em\" fill=\"#9c9c9c\" font-family=\"Monaco\" text-anchor=\"middle\" x=\"0.0\" y=\"486.0\">0.0</text></g><g class=\"tick\"><line stroke=\"#eee\" stroke-width=\"1\" x1=\"168.0\" x2=\"168.0\" y1=\"0\" y2=\"482.0\"/><text dy=\"1em\" fill=\"#9c9c9c\" font-family=\"Monaco\" text-anchor=\"middle\" x=\"168.0\" y=\"486.0\">2.25</text></g><g class=\"tick\"><line stroke=\"#eee\" stroke-width=\"1\" x1=\"336.0\" x2=\"336.0\" y1=\"0\" y2=\"482.0\"/><text dy=\"1em\" fill=\"#9c9c9c\" font-family=\"Monaco\" text-anchor=\"middle\" x=\"336.0\" y=\"486.0\">4.5</text></g><g class=\"tick\"><line stroke=\"#eee\" stroke-width=\"1\" x1=\"504.0\" x2=\"504.0\" y1=\"0\" y2=\"482.0\"/><text dy=\"1em\" fill=\"#9c9c9c\" font-family=\"Monaco\" text-anchor=\"middle\" x=\"504.0\" y=\"486.0\">6.75</text></g><g class=\"tick\"><line stroke=\"#eee\" stroke-width=\"1\" x1=\"672.0\" x2=\"672.0\" y1=\"0\" y2=\"482.0\"/><text dy=\"1em\" fill=\"#9c9c9c\" font-family=\"Monaco\" text-anchor=\"middle\" x=\"672.0\" y=\"486.0\">9.0</text></g></g><g class=\"axis left\"><text dy=\"\" fill=\"#666\" font-family=\"Monaco\" text-anchor=\"middle\" transform=\"rotate(270 -48 239)\" x=\"-48\" y=\"239.0\"/><g class=\"tick\"><line stroke=\"#eee\" stroke-width=\"1\" x1=\"-4\" x2=\"672.0\" y1=\"418.25\" y2=\"418.25\"/><text dy=\"0.32em\" fill=\"#9c9c9c\" font-family=\"Monaco\" text-anchor=\"end\" x=\"-8\" y=\"418.25\">You</text></g><g class=\"tick\"><line stroke=\"#eee\" stroke-width=\"1\" x1=\"-4\" x2=\"672.0\" y1=\"298.75\" y2=\"298.75\"/><text dy=\"0.32em\" fill=\"#9c9c9c\" font-family=\"Monaco\" text-anchor=\"end\" x=\"-8\" y=\"298.75\">Are</text></g><g class=\"tick\"><line stroke=\"#eee\" stroke-width=\"1\" x1=\"-4\" x2=\"672.0\" y1=\"179.25\" y2=\"179.25\"/><text dy=\"0.32em\" fill=\"#9c9c9c\" font-family=\"Monaco\" text-anchor=\"end\" x=\"-8\" y=\"179.25\">How</text></g><g class=\"tick\"><line stroke=\"#eee\" stroke-width=\"1\" x1=\"-4\" x2=\"672.0\" y1=\"59.75\" y2=\"59.75\"/><text dy=\"0.32em\" fill=\"#9c9c9c\" font-family=\"Monaco\" text-anchor=\"end\" x=\"-8\" y=\"59.75\">Hello</text></g></g><g><g class=\"series bars\"><rect fill=\"#d190b6\" height=\"107.54999999999995\" width=\"298.66666666666663\" x=\"0\" y=\"364.475\"/><rect fill=\"#d190b6\" height=\"107.54999999999998\" width=\"672.0\" x=\"0\" y=\"244.975\"/><rect fill=\"#d190b6\" height=\"107.55000000000001\" width=\"373.33333333333337\" x=\"0\" y=\"125.475\"/><rect fill=\"#d190b6\" height=\"107.55000000000001\" width=\"224.0\" x=\"0\" y=\"5.9750000000000005\"/></g></g></g></g></g></g></svg>"
      ],
      "text/plain": [
       "<IPython.core.display.SVG object>"
      ]
     },
     "execution_count": 5,
     "metadata": {},
     "output_type": "execute_result"
    }
   ],
   "source": [
    "chart.to_svg()"
   ]
  },
  {
   "cell_type": "markdown",
   "metadata": {},
   "source": [
    "Here's the exact same data, but in a column chart."
   ]
  },
  {
   "cell_type": "code",
   "execution_count": 6,
   "metadata": {
    "collapsed": false
   },
   "outputs": [
    {
     "data": {
      "image/svg+xml": [
       "<svg height=\"600\" version=\"1.1\" width=\"800\" xmlns=\"http://www.w3.org/2000/svg\"><g><rect fill=\"#f9f9f9\" height=\"600\" width=\"800\" x=\"0\" y=\"0\"/><g transform=\"translate(40 40)\"><g transform=\"translate(40 0)\"><text fill=\"#333\" font-family=\"Monaco\" font-size=\"16\" x=\"0\" y=\"0\">Columns</text></g><g transform=\"translate(0 20)\"><g transform=\"translate(40 0)\"><g class=\"axis bottom\"><text dy=\"1em\" fill=\"#666\" font-family=\"Monaco\" text-anchor=\"middle\" transform=\"\" x=\"340.0\" y=\"508.0\"/><g class=\"tick\"><line stroke=\"#eee\" stroke-width=\"1\" x1=\"85.0\" x2=\"85.0\" y1=\"0\" y2=\"482.0\"/><text dy=\"1em\" fill=\"#9c9c9c\" font-family=\"Monaco\" text-anchor=\"middle\" x=\"85.0\" y=\"486.0\">Hello</text></g><g class=\"tick\"><line stroke=\"#eee\" stroke-width=\"1\" x1=\"255.0\" x2=\"255.0\" y1=\"0\" y2=\"482.0\"/><text dy=\"1em\" fill=\"#9c9c9c\" font-family=\"Monaco\" text-anchor=\"middle\" x=\"255.0\" y=\"486.0\">How</text></g><g class=\"tick\"><line stroke=\"#eee\" stroke-width=\"1\" x1=\"425.0\" x2=\"425.0\" y1=\"0\" y2=\"482.0\"/><text dy=\"1em\" fill=\"#9c9c9c\" font-family=\"Monaco\" text-anchor=\"middle\" x=\"425.0\" y=\"486.0\">Are</text></g><g class=\"tick\"><line stroke=\"#eee\" stroke-width=\"1\" x1=\"595.0\" x2=\"595.0\" y1=\"0\" y2=\"482.0\"/><text dy=\"1em\" fill=\"#9c9c9c\" font-family=\"Monaco\" text-anchor=\"middle\" x=\"595.0\" y=\"486.0\">You</text></g></g><g class=\"axis left\"><text dy=\"\" fill=\"#666\" font-family=\"Monaco\" text-anchor=\"middle\" transform=\"rotate(270 -40 239)\" x=\"-40\" y=\"239.0\"/><g class=\"tick\"><line stroke=\"#a8a8a8\" stroke-width=\"1\" x1=\"-4\" x2=\"680.0\" y1=\"478.0\" y2=\"478.0\"/><text dy=\"0.32em\" fill=\"#9c9c9c\" font-family=\"Monaco\" text-anchor=\"end\" x=\"-8\" y=\"478.0\">0.0</text></g><g class=\"tick\"><line stroke=\"#eee\" stroke-width=\"1\" x1=\"-4\" x2=\"680.0\" y1=\"358.5\" y2=\"358.5\"/><text dy=\"0.32em\" fill=\"#9c9c9c\" font-family=\"Monaco\" text-anchor=\"end\" x=\"-8\" y=\"358.5\">2.25</text></g><g class=\"tick\"><line stroke=\"#eee\" stroke-width=\"1\" x1=\"-4\" x2=\"680.0\" y1=\"239.0\" y2=\"239.0\"/><text dy=\"0.32em\" fill=\"#9c9c9c\" font-family=\"Monaco\" text-anchor=\"end\" x=\"-8\" y=\"239.0\">4.5</text></g><g class=\"tick\"><line stroke=\"#eee\" stroke-width=\"1\" x1=\"-4\" x2=\"680.0\" y1=\"119.5\" y2=\"119.5\"/><text dy=\"0.32em\" fill=\"#9c9c9c\" font-family=\"Monaco\" text-anchor=\"end\" x=\"-8\" y=\"119.5\">6.75</text></g><g class=\"tick\"><line stroke=\"#eee\" stroke-width=\"1\" x1=\"-4\" x2=\"680.0\" y1=\"0.0\" y2=\"0.0\"/><text dy=\"0.32em\" fill=\"#9c9c9c\" font-family=\"Monaco\" text-anchor=\"end\" x=\"-8\" y=\"0.0\">9.0</text></g></g><g><g class=\"series columns\"><rect fill=\"#d190b6\" height=\"159.33333333333331\" width=\"153.0\" x=\"8.5\" y=\"318.6666666666667\"/><rect fill=\"#d190b6\" height=\"265.55555555555554\" width=\"153.0\" x=\"178.5\" y=\"212.44444444444446\"/><rect fill=\"#d190b6\" height=\"478.0\" width=\"153.0\" x=\"348.5\" y=\"0.0\"/><rect fill=\"#d190b6\" height=\"212.44444444444446\" width=\"153.0\" x=\"518.5\" y=\"265.55555555555554\"/></g></g></g></g></g></g></svg>"
      ],
      "text/plain": [
       "<IPython.core.display.SVG object>"
      ]
     },
     "execution_count": 6,
     "metadata": {},
     "output_type": "execute_result"
    }
   ],
   "source": [
    "import leather\n",
    "\n",
    "data = [\n",
    "    ('Hello', 3),\n",
    "    ('How', 5),\n",
    "    ('Are', 9),\n",
    "    ('You', 4)\n",
    "]\n",
    "\n",
    "chart = leather.Chart('Columns')\n",
    "chart.add_columns(data)\n",
    "chart.to_svg()"
   ]
  },
  {
   "cell_type": "markdown",
   "metadata": {},
   "source": [
    "## A more complex example\n",
    "\n",
    "But rarely will we hard code our data into the chart -- we certainly can do that, if speed is necessary and the amount of data we have is small, but why do that? \n",
    "\n",
    "So since we just learned how to use Agate, let's learn how to connect them together.\n",
    "\n",
    "Plugging in Agate rendered data is not as straightforward as you might think but it's not hard to do once you recognize that Leather wants SIMPLE data structures, and Agate doesn't output those simple data structures. \n",
    "\n",
    "So let's reuse some data analysis we did from Agate with mountain lion sightings. You can copy and paste it from your old assignment. "
   ]
  },
  {
   "cell_type": "code",
   "execution_count": 7,
   "metadata": {
    "collapsed": false
   },
   "outputs": [],
   "source": [
    "import agate\n",
    "mountainlions = agate.Table.from_csv('../../Data/mountainlions.csv')\n",
    "by_county = mountainlions.group_by('COUNTY')\n",
    "county_totals = by_county.aggregate([\n",
    "    ('count', agate.Count())\n",
    "])\n",
    "sorted_counties = county_totals.order_by('count', reverse=True).limit(10)"
   ]
  },
  {
   "cell_type": "markdown",
   "metadata": {},
   "source": [
    "Now this is where things get a little wonky. Remember: Leather wants a list of tuples as output. So what is sorted_counties? It's an agate Table object. So the first thing we have to do, is make it a list of tuples. Fortunately, Python has a simple tool to do this called zip.\n",
    "\n",
    "An agate Table object is a table with each column as a list. So what zip does is zip two lists into a tuple, matching them up. It's as easy as `zip(list1, list2)`, except we don't have list1 and list2. We have to access each list pythonically."
   ]
  },
  {
   "cell_type": "code",
   "execution_count": 8,
   "metadata": {
    "collapsed": false
   },
   "outputs": [],
   "source": [
    "data = list(zip(sorted_counties.columns['count'], sorted_counties.columns['COUNTY']))"
   ]
  },
  {
   "cell_type": "code",
   "execution_count": 9,
   "metadata": {
    "collapsed": false
   },
   "outputs": [
    {
     "data": {
      "text/plain": [
       "[(Decimal('111'), 'Dawes'),\n",
       " (Decimal('52'), 'Sioux'),\n",
       " (Decimal('35'), 'Sheridan'),\n",
       " (Decimal('30'), 'Cherry'),\n",
       " (Decimal('26'), 'Scotts Bluff'),\n",
       " (Decimal('20'), 'Keya Paha'),\n",
       " (Decimal('15'), 'Brown'),\n",
       " (Decimal('11'), 'Rock'),\n",
       " (Decimal('10'), 'Lincoln'),\n",
       " (Decimal('8'), 'Custer')]"
      ]
     },
     "execution_count": 9,
     "metadata": {},
     "output_type": "execute_result"
    }
   ],
   "source": [
    "list(data)"
   ]
  },
  {
   "cell_type": "markdown",
   "metadata": {},
   "source": [
    "See the problem? See the difference between our hard coded example and this list? It's the Decimal business. We didn't have Decimal objects before -- we had integers -- and now we don't. Leather won't accept them, but we can convert them into Integers with a little Python fu.\n",
    "\n",
    "So to start, let's create a new list of data and set it empty."
   ]
  },
  {
   "cell_type": "code",
   "execution_count": 10,
   "metadata": {
    "collapsed": false
   },
   "outputs": [],
   "source": [
    "new_data = []"
   ]
  },
  {
   "cell_type": "markdown",
   "metadata": {},
   "source": [
    "Now we'll loop through each item in data, convert that decimal to an integer, create a new tuple object and then append it to the new_data list we've created. It's easier than it sounds."
   ]
  },
  {
   "cell_type": "code",
   "execution_count": 11,
   "metadata": {
    "collapsed": true
   },
   "outputs": [],
   "source": [
    "for item in data:\n",
    "    number = int(item[0])\n",
    "    new_data.append((number, item[1]))"
   ]
  },
  {
   "cell_type": "code",
   "execution_count": 12,
   "metadata": {
    "collapsed": false
   },
   "outputs": [
    {
     "data": {
      "text/plain": [
       "[(111, 'Dawes'),\n",
       " (52, 'Sioux'),\n",
       " (35, 'Sheridan'),\n",
       " (30, 'Cherry'),\n",
       " (26, 'Scotts Bluff'),\n",
       " (20, 'Keya Paha'),\n",
       " (15, 'Brown'),\n",
       " (11, 'Rock'),\n",
       " (10, 'Lincoln'),\n",
       " (8, 'Custer')]"
      ]
     },
     "execution_count": 12,
     "metadata": {},
     "output_type": "execute_result"
    }
   ],
   "source": [
    "list(new_data)"
   ]
  },
  {
   "cell_type": "markdown",
   "metadata": {},
   "source": [
    "Now we have something we can work with. It looks exactly like our data from before. So we can use the same code."
   ]
  },
  {
   "cell_type": "code",
   "execution_count": 13,
   "metadata": {
    "collapsed": false
   },
   "outputs": [
    {
     "data": {
      "image/svg+xml": [
       "<svg height=\"600\" version=\"1.1\" width=\"800\" xmlns=\"http://www.w3.org/2000/svg\"><g><rect fill=\"#f9f9f9\" height=\"600\" width=\"800\" x=\"0\" y=\"0\"/><g transform=\"translate(40 40)\"><g transform=\"translate(104 0)\"><text fill=\"#333\" font-family=\"Monaco\" font-size=\"16\" x=\"0\" y=\"0\">Mountain Lion sightings</text></g><g transform=\"translate(0 20)\"><g transform=\"translate(104 0)\"><g class=\"axis bottom\"><text dy=\"1em\" fill=\"#666\" font-family=\"Monaco\" text-anchor=\"middle\" transform=\"\" x=\"308.0\" y=\"508.0\"/><g class=\"tick\"><line stroke=\"#a8a8a8\" stroke-width=\"1\" x1=\"0.0\" x2=\"0.0\" y1=\"0\" y2=\"482.0\"/><text dy=\"1em\" fill=\"#9c9c9c\" font-family=\"Monaco\" text-anchor=\"middle\" x=\"0.0\" y=\"486.0\">0.0</text></g><g class=\"tick\"><line stroke=\"#eee\" stroke-width=\"1\" x1=\"154.0\" x2=\"154.0\" y1=\"0\" y2=\"482.0\"/><text dy=\"1em\" fill=\"#9c9c9c\" font-family=\"Monaco\" text-anchor=\"middle\" x=\"154.0\" y=\"486.0\">27.75</text></g><g class=\"tick\"><line stroke=\"#eee\" stroke-width=\"1\" x1=\"308.0\" x2=\"308.0\" y1=\"0\" y2=\"482.0\"/><text dy=\"1em\" fill=\"#9c9c9c\" font-family=\"Monaco\" text-anchor=\"middle\" x=\"308.0\" y=\"486.0\">55.5</text></g><g class=\"tick\"><line stroke=\"#eee\" stroke-width=\"1\" x1=\"462.0\" x2=\"462.0\" y1=\"0\" y2=\"482.0\"/><text dy=\"1em\" fill=\"#9c9c9c\" font-family=\"Monaco\" text-anchor=\"middle\" x=\"462.0\" y=\"486.0\">83.25</text></g><g class=\"tick\"><line stroke=\"#eee\" stroke-width=\"1\" x1=\"616.0\" x2=\"616.0\" y1=\"0\" y2=\"482.0\"/><text dy=\"1em\" fill=\"#9c9c9c\" font-family=\"Monaco\" text-anchor=\"middle\" x=\"616.0\" y=\"486.0\">111.0</text></g></g><g class=\"axis left\"><text dy=\"\" fill=\"#666\" font-family=\"Monaco\" text-anchor=\"middle\" transform=\"rotate(270 -104 239)\" x=\"-104\" y=\"239.0\"/><g class=\"tick\"><line stroke=\"#eee\" stroke-width=\"1\" x1=\"-4\" x2=\"616.0\" y1=\"454.1\" y2=\"454.1\"/><text dy=\"0.32em\" fill=\"#9c9c9c\" font-family=\"Monaco\" text-anchor=\"end\" x=\"-8\" y=\"454.1\">Custer</text></g><g class=\"tick\"><line stroke=\"#eee\" stroke-width=\"1\" x1=\"-4\" x2=\"616.0\" y1=\"406.3\" y2=\"406.3\"/><text dy=\"0.32em\" fill=\"#9c9c9c\" font-family=\"Monaco\" text-anchor=\"end\" x=\"-8\" y=\"406.3\">Lincoln</text></g><g class=\"tick\"><line stroke=\"#eee\" stroke-width=\"1\" x1=\"-4\" x2=\"616.0\" y1=\"358.5\" y2=\"358.5\"/><text dy=\"0.32em\" fill=\"#9c9c9c\" font-family=\"Monaco\" text-anchor=\"end\" x=\"-8\" y=\"358.5\">Rock</text></g><g class=\"tick\"><line stroke=\"#eee\" stroke-width=\"1\" x1=\"-4\" x2=\"616.0\" y1=\"310.70000000000005\" y2=\"310.70000000000005\"/><text dy=\"0.32em\" fill=\"#9c9c9c\" font-family=\"Monaco\" text-anchor=\"end\" x=\"-8\" y=\"310.70000000000005\">Brown</text></g><g class=\"tick\"><line stroke=\"#eee\" stroke-width=\"1\" x1=\"-4\" x2=\"616.0\" y1=\"262.90000000000003\" y2=\"262.90000000000003\"/><text dy=\"0.32em\" fill=\"#9c9c9c\" font-family=\"Monaco\" text-anchor=\"end\" x=\"-8\" y=\"262.90000000000003\">Keya Paha</text></g><g class=\"tick\"><line stroke=\"#eee\" stroke-width=\"1\" x1=\"-4\" x2=\"616.0\" y1=\"215.1\" y2=\"215.1\"/><text dy=\"0.32em\" fill=\"#9c9c9c\" font-family=\"Monaco\" text-anchor=\"end\" x=\"-8\" y=\"215.1\">Scotts Bluff</text></g><g class=\"tick\"><line stroke=\"#eee\" stroke-width=\"1\" x1=\"-4\" x2=\"616.0\" y1=\"167.30000000000004\" y2=\"167.30000000000004\"/><text dy=\"0.32em\" fill=\"#9c9c9c\" font-family=\"Monaco\" text-anchor=\"end\" x=\"-8\" y=\"167.30000000000004\">Cherry</text></g><g class=\"tick\"><line stroke=\"#eee\" stroke-width=\"1\" x1=\"-4\" x2=\"616.0\" y1=\"119.50000000000003\" y2=\"119.50000000000003\"/><text dy=\"0.32em\" fill=\"#9c9c9c\" font-family=\"Monaco\" text-anchor=\"end\" x=\"-8\" y=\"119.50000000000003\">Sheridan</text></g><g class=\"tick\"><line stroke=\"#eee\" stroke-width=\"1\" x1=\"-4\" x2=\"616.0\" y1=\"71.70000000000002\" y2=\"71.70000000000002\"/><text dy=\"0.32em\" fill=\"#9c9c9c\" font-family=\"Monaco\" text-anchor=\"end\" x=\"-8\" y=\"71.70000000000002\">Sioux</text></g><g class=\"tick\"><line stroke=\"#eee\" stroke-width=\"1\" x1=\"-4\" x2=\"616.0\" y1=\"23.900000000000013\" y2=\"23.900000000000013\"/><text dy=\"0.32em\" fill=\"#9c9c9c\" font-family=\"Monaco\" text-anchor=\"end\" x=\"-8\" y=\"23.900000000000013\">Dawes</text></g></g><g><g class=\"series bars\"><rect fill=\"#d190b6\" height=\"43.02000000000004\" width=\"44.3963963963964\" x=\"0\" y=\"432.59\"/><rect fill=\"#d190b6\" height=\"43.02000000000004\" width=\"55.49549549549549\" x=\"0\" y=\"384.78999999999996\"/><rect fill=\"#d190b6\" height=\"43.01999999999998\" width=\"61.04504504504504\" x=\"0\" y=\"336.99\"/><rect fill=\"#d190b6\" height=\"43.02000000000004\" width=\"83.24324324324324\" x=\"0\" y=\"289.19\"/><rect fill=\"#d190b6\" height=\"43.02000000000004\" width=\"110.99099099099098\" x=\"0\" y=\"241.39\"/><rect fill=\"#d190b6\" height=\"43.01999999999998\" width=\"144.28828828828827\" x=\"0\" y=\"193.59000000000003\"/><rect fill=\"#d190b6\" height=\"43.02000000000004\" width=\"166.48648648648648\" x=\"0\" y=\"145.79000000000002\"/><rect fill=\"#d190b6\" height=\"43.020000000000024\" width=\"194.23423423423424\" x=\"0\" y=\"97.99000000000002\"/><rect fill=\"#d190b6\" height=\"43.02000000000001\" width=\"288.57657657657654\" x=\"0\" y=\"50.19000000000001\"/><rect fill=\"#d190b6\" height=\"43.02000000000001\" width=\"616.0\" x=\"0\" y=\"2.39\"/></g></g></g></g></g></g></svg>"
      ],
      "text/plain": [
       "<IPython.core.display.SVG object>"
      ]
     },
     "execution_count": 13,
     "metadata": {},
     "output_type": "execute_result"
    }
   ],
   "source": [
    "chart = leather.Chart('Mountain Lion sightings')\n",
    "chart.add_bars(new_data)\n",
    "chart.to_svg('')"
   ]
  },
  {
   "cell_type": "markdown",
   "metadata": {},
   "source": [
    "# Assignent: Your first Leather charts\n",
    "\n",
    "Take the data you cleaned out of the PDF and create two Leather charts out of it. The first should be hard coded, just the way we did it. The second should combine Agate and Leather together to create the chart. You can choose what you want to look at. \n",
    "\n",
    "Submit your ipynb file for credit."
   ]
  },
  {
   "cell_type": "code",
   "execution_count": 14,
   "metadata": {
    "collapsed": true
   },
   "outputs": [],
   "source": [
    "enrollment = agate.Table.from_csv('../../Data/enrollment.csv')"
   ]
  },
  {
   "cell_type": "code",
   "execution_count": 15,
   "metadata": {
    "collapsed": false
   },
   "outputs": [
    {
     "name": "stdout",
     "output_type": "stream",
     "text": [
      "|-------------------------+------------|\n",
      "|  column                 | data_type  |\n",
      "|-------------------------+------------|\n",
      "|  College                | Text       |\n",
      "|  Degree                 | Text       |\n",
      "|  MajorCode              | Text       |\n",
      "|  MajorName              | Text       |\n",
      "|  NonResidentAlienMale   | Number     |\n",
      "|  NonResidentAlienFemale | Number     |\n",
      "|  HispanicMale           | Number     |\n",
      "|  HIspanicFemale         | Number     |\n",
      "|  AmericanIndianMale     | Number     |\n",
      "|  AmericanIndianFemale   | Number     |\n",
      "|  AsianMale              | Number     |\n",
      "|  AsianFemale            | Number     |\n",
      "|  BlackMale              | Number     |\n",
      "|  BlackFemale            | Number     |\n",
      "|  NativeHawaiianMale     | Number     |\n",
      "|  NativeHawaiianFemale   | Boolean    |\n",
      "|  WhiteMale              | Number     |\n",
      "|  WhiteFemale            | Number     |\n",
      "|  TwoRacesMale           | Number     |\n",
      "|  TwoRacesFemale         | Number     |\n",
      "|  ...                    | ...        |\n",
      "|-------------------------+------------|\n",
      "\n"
     ]
    }
   ],
   "source": [
    "print(enrollment)"
   ]
  },
  {
   "cell_type": "code",
   "execution_count": null,
   "metadata": {
    "collapsed": true
   },
   "outputs": [],
   "source": []
  }
 ],
 "metadata": {
  "kernelspec": {
   "display_name": "Python 3",
   "language": "python",
   "name": "python3"
  },
  "language_info": {
   "codemirror_mode": {
    "name": "ipython",
    "version": 3
   },
   "file_extension": ".py",
   "mimetype": "text/x-python",
   "name": "python",
   "nbconvert_exporter": "python",
   "pygments_lexer": "ipython3",
   "version": "3.5.1"
  }
 },
 "nbformat": 4,
 "nbformat_minor": 0
}
