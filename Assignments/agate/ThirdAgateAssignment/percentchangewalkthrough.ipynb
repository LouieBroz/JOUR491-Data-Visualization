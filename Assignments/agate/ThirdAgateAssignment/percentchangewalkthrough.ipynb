{
 "cells": [
  {
   "cell_type": "markdown",
   "metadata": {},
   "source": [
    "# Percent change computation walkthrough\n",
    "In this walkthrough, we're going to learn about computing new columns from existing columns. The ideal test of this is percent change. Percent change is a very common computation in data journalism, so knowing how to do it in Agate is important. As always, you start by importing Agate."
   ]
  },
  {
   "cell_type": "code",
   "execution_count": 1,
   "metadata": {
    "collapsed": true
   },
   "outputs": [],
   "source": [
    "import agate"
   ]
  },
  {
   "cell_type": "markdown",
   "metadata": {},
   "source": [
    "Now get some data. We'll be using [some old UCR data](https://www.dropbox.com/s/b22egk8gdsoyc9e/ucrdata.csv?dl=0) from the FBI that we've used before to demonstrate Excel."
   ]
  },
  {
   "cell_type": "code",
   "execution_count": 3,
   "metadata": {
    "collapsed": false
   },
   "outputs": [],
   "source": [
    "crimes = agate.Table.from_csv('../../../Data/ucrdata.csv')"
   ]
  },
  {
   "cell_type": "code",
   "execution_count": 4,
   "metadata": {
    "collapsed": false,
    "scrolled": true
   },
   "outputs": [
    {
     "name": "stdout",
     "output_type": "stream",
     "text": [
      "|------------------------+------------|\n",
      "|  column                | data_type  |\n",
      "|------------------------+------------|\n",
      "|  CleanState            | Text       |\n",
      "|  APStyle               | Text       |\n",
      "|  CleanName             | Text       |\n",
      "|  2012Population        | Number     |\n",
      "|  2012ViolentCrime      | Number     |\n",
      "|  2012Murder            | Number     |\n",
      "|  2012ForcibleRape      | Number     |\n",
      "|  2012Robbery           | Number     |\n",
      "|  2012AggravatedAssault | Number     |\n",
      "|  2012PropertyCrime     | Number     |\n",
      "|  2012Burglary          | Number     |\n",
      "|  2012LarcenyTheft      | Number     |\n",
      "|  2012MotorVehicleTheft | Number     |\n",
      "|  2012Arson             | Number     |\n",
      "|  2011Population        | Number     |\n",
      "|  2011ViolentCrime      | Number     |\n",
      "|  2011Murder            | Number     |\n",
      "|  2011Forciblerape      | Number     |\n",
      "|  2011Robbery           | Number     |\n",
      "|  2011AggravatedAssault | Number     |\n",
      "|  ...                   | ...        |\n",
      "|------------------------+------------|\n",
      "\n"
     ]
    }
   ],
   "source": [
    "print(crimes)"
   ]
  },
  {
   "cell_type": "markdown",
   "metadata": {},
   "source": [
    "So the code for calculating a percent change is really quite easy. It's about the same as calculating a median or a mean. Instead of an aggregate, which works on the whole table column wise, we use compute, which works on the table row wise. Aggregate = single column. Compute = single row. Got it?"
   ]
  },
  {
   "cell_type": "code",
   "execution_count": 5,
   "metadata": {
    "collapsed": false
   },
   "outputs": [
    {
     "ename": "TypeError",
     "evalue": "unsupported operand type(s) for -: 'NoneType' and 'NoneType'",
     "output_type": "error",
     "traceback": [
      "\u001b[0;31m---------------------------------------------------------------------------\u001b[0m",
      "\u001b[0;31mTypeError\u001b[0m                                 Traceback (most recent call last)",
      "\u001b[0;32m<ipython-input-5-4faba6d05326>\u001b[0m in \u001b[0;36m<module>\u001b[0;34m()\u001b[0m\n\u001b[1;32m      1\u001b[0m change1112 = crimes.compute([\n\u001b[1;32m      2\u001b[0m     \u001b[0;34m(\u001b[0m\u001b[0;34m'vc_change_1112'\u001b[0m\u001b[0;34m,\u001b[0m \u001b[0magate\u001b[0m\u001b[0;34m.\u001b[0m\u001b[0mPercentChange\u001b[0m\u001b[0;34m(\u001b[0m\u001b[0;34m'2012ViolentCrime'\u001b[0m\u001b[0;34m,\u001b[0m \u001b[0;34m'2011ViolentCrime'\u001b[0m\u001b[0;34m)\u001b[0m\u001b[0;34m)\u001b[0m\u001b[0;34m,\u001b[0m\u001b[0;34m\u001b[0m\u001b[0m\n\u001b[0;32m----> 3\u001b[0;31m     \u001b[0;34m(\u001b[0m\u001b[0;34m'pc_change_1112'\u001b[0m\u001b[0;34m,\u001b[0m \u001b[0magate\u001b[0m\u001b[0;34m.\u001b[0m\u001b[0mPercentChange\u001b[0m\u001b[0;34m(\u001b[0m\u001b[0;34m'2012PropertyCrime'\u001b[0m\u001b[0;34m,\u001b[0m \u001b[0;34m'2011PropertyCrime'\u001b[0m\u001b[0;34m)\u001b[0m\u001b[0;34m)\u001b[0m\u001b[0;34m\u001b[0m\u001b[0m\n\u001b[0m\u001b[1;32m      4\u001b[0m ])\n",
      "\u001b[0;32m/Users/mattwaite/anaconda/envs/homework/lib/python3.5/site-packages/agate/table/compute.py\u001b[0m in \u001b[0;36mcompute\u001b[0;34m(self, computations, replace)\u001b[0m\n\u001b[1;32m     45\u001b[0m \u001b[0;34m\u001b[0m\u001b[0m\n\u001b[1;32m     46\u001b[0m     \u001b[0;32mfor\u001b[0m \u001b[0mnew_column_name\u001b[0m\u001b[0;34m,\u001b[0m \u001b[0mcomputation\u001b[0m \u001b[0;32min\u001b[0m \u001b[0mcomputations\u001b[0m\u001b[0;34m:\u001b[0m\u001b[0;34m\u001b[0m\u001b[0m\n\u001b[0;32m---> 47\u001b[0;31m         \u001b[0mnew_columns\u001b[0m\u001b[0;34m[\u001b[0m\u001b[0mnew_column_name\u001b[0m\u001b[0;34m]\u001b[0m \u001b[0;34m=\u001b[0m \u001b[0mcomputation\u001b[0m\u001b[0;34m.\u001b[0m\u001b[0mrun\u001b[0m\u001b[0;34m(\u001b[0m\u001b[0mself\u001b[0m\u001b[0;34m)\u001b[0m\u001b[0;34m\u001b[0m\u001b[0m\n\u001b[0m\u001b[1;32m     48\u001b[0m \u001b[0;34m\u001b[0m\u001b[0m\n\u001b[1;32m     49\u001b[0m     \u001b[0mnew_rows\u001b[0m \u001b[0;34m=\u001b[0m \u001b[0;34m[\u001b[0m\u001b[0;34m]\u001b[0m\u001b[0;34m\u001b[0m\u001b[0m\n",
      "\u001b[0;32m/Users/mattwaite/anaconda/envs/homework/lib/python3.5/site-packages/agate/computations/percent_change.py\u001b[0m in \u001b[0;36mrun\u001b[0;34m(self, table)\u001b[0m\n\u001b[1;32m     41\u001b[0m \u001b[0;34m\u001b[0m\u001b[0m\n\u001b[1;32m     42\u001b[0m         \u001b[0;32mfor\u001b[0m \u001b[0mrow\u001b[0m \u001b[0;32min\u001b[0m \u001b[0mtable\u001b[0m\u001b[0;34m.\u001b[0m\u001b[0mrows\u001b[0m\u001b[0;34m:\u001b[0m\u001b[0;34m\u001b[0m\u001b[0m\n\u001b[0;32m---> 43\u001b[0;31m             \u001b[0mnew_column\u001b[0m\u001b[0;34m.\u001b[0m\u001b[0mappend\u001b[0m\u001b[0;34m(\u001b[0m\u001b[0;34m(\u001b[0m\u001b[0mrow\u001b[0m\u001b[0;34m[\u001b[0m\u001b[0mself\u001b[0m\u001b[0;34m.\u001b[0m\u001b[0m_after_column_name\u001b[0m\u001b[0;34m]\u001b[0m \u001b[0;34m-\u001b[0m \u001b[0mrow\u001b[0m\u001b[0;34m[\u001b[0m\u001b[0mself\u001b[0m\u001b[0;34m.\u001b[0m\u001b[0m_before_column_name\u001b[0m\u001b[0;34m]\u001b[0m\u001b[0;34m)\u001b[0m \u001b[0;34m/\u001b[0m \u001b[0mrow\u001b[0m\u001b[0;34m[\u001b[0m\u001b[0mself\u001b[0m\u001b[0;34m.\u001b[0m\u001b[0m_before_column_name\u001b[0m\u001b[0;34m]\u001b[0m \u001b[0;34m*\u001b[0m \u001b[0;36m100\u001b[0m\u001b[0;34m)\u001b[0m\u001b[0;34m\u001b[0m\u001b[0m\n\u001b[0m\u001b[1;32m     44\u001b[0m \u001b[0;34m\u001b[0m\u001b[0m\n\u001b[1;32m     45\u001b[0m         \u001b[0;32mreturn\u001b[0m \u001b[0mnew_column\u001b[0m\u001b[0;34m\u001b[0m\u001b[0m\n",
      "\u001b[0;31mTypeError\u001b[0m: unsupported operand type(s) for -: 'NoneType' and 'NoneType'"
     ]
    }
   ],
   "source": [
    "change1112 = crimes.compute([\n",
    "    ('vc_change_1112', agate.PercentChange('2012ViolentCrime', '2011ViolentCrime')),\n",
    "    ('pc_change_1112', agate.PercentChange('2012PropertyCrime', '2011PropertyCrime'))\n",
    "])"
   ]
  },
  {
   "cell_type": "markdown",
   "metadata": {},
   "source": [
    "Sad trombone. Unsupported operand type errors means you just tried to do something with a thing that doesn't do that. What I mean is you just tried to subtract two nouns, or capitalize a number. In this case, we tried to subtract two null objects. Null is nothing. You cannot subtract nothing from nothing. So we're going to have to filter those out. We've done this before. You have code you can copy and reuse."
   ]
  },
  {
   "cell_type": "code",
   "execution_count": 6,
   "metadata": {
    "collapsed": false
   },
   "outputs": [],
   "source": [
    "changes = crimes.where(lambda row: row['2012ViolentCrime'] != None)"
   ]
  },
  {
   "cell_type": "markdown",
   "metadata": {},
   "source": [
    "Now that we've done that, we can calculate the change in reported violent crime and the reported property crime for each city in our table."
   ]
  },
  {
   "cell_type": "code",
   "execution_count": 7,
   "metadata": {
    "collapsed": true
   },
   "outputs": [],
   "source": [
    "change1112 = changes.compute([\n",
    "    ('vc_change_1112', agate.PercentChange('2011ViolentCrime', '2012ViolentCrime')),\n",
    "    ('pc_change_1112', agate.PercentChange('2011PropertyCrime', '2012PropertyCrime')),\n",
    "])        "
   ]
  },
  {
   "cell_type": "markdown",
   "metadata": {},
   "source": [
    "And let's see what that looks like. "
   ]
  },
  {
   "cell_type": "code",
   "execution_count": 8,
   "metadata": {
    "collapsed": false
   },
   "outputs": [
    {
     "name": "stdout",
     "output_type": "stream",
     "text": [
      "|---------------+---------+--------------+----------------+------------------+------------+------|\n",
      "|  CleanState   | APStyle | CleanName    | 2012Population | 2012ViolentCrime | 2012Murder | ...  |\n",
      "|---------------+---------+--------------+----------------+------------------+------------+------|\n",
      "|  Texas        | Texas   | Abilene      |        119,886 |              472 |          3 | ...  |\n",
      "|  Ohio         | Ohio    | Akron        |        198,390 |            1,759 |         24 | ...  |\n",
      "|  New Mexico   | N.M.    | Albuquerque  |        553,684 |            4,151 |         41 | ...  |\n",
      "|  Virginia     | Va.     | Alexandria   |        145,892 |              243 |          0 | ...  |\n",
      "|  Pennsylvania | Pa.     | Allentown    |        119,334 |              653 |         15 | ...  |\n",
      "|  Texas        | Texas   | Amarillo     |        196,576 |            1,278 |         10 | ...  |\n",
      "|  New York     | N.Y.    | Amherst Town |        117,591 |               88 |          0 | ...  |\n",
      "|  California   | Calif.  | Anaheim      |        344,526 |            1,279 |         15 | ...  |\n",
      "|  Alaska       | Alaska  | Anchorage    |        299,143 |            2,479 |         15 | ...  |\n",
      "|  Michigan     | Mich.   | Ann Arbor    |        115,008 |              228 |          1 | ...  |\n",
      "|  ...          | ...     | ...          |            ... |              ... |        ... | ...  |\n",
      "|---------------+---------+--------------+----------------+------------------+------------+------|\n"
     ]
    }
   ],
   "source": [
    "change1112.print_table(max_rows=10)"
   ]
  },
  {
   "cell_type": "markdown",
   "metadata": {},
   "source": [
    "Oy. That's ugly. There's a handy little trick called select where we can only select the fields from the table we need to go on. In this case, we need a city, a state and the changes in violent crime and property crime. So we're going to create a new table only for the purposes of printing it out. "
   ]
  },
  {
   "cell_type": "code",
   "execution_count": 9,
   "metadata": {
    "collapsed": true
   },
   "outputs": [],
   "source": [
    "for_printing = change1112.select(['CleanName', 'APStyle', 'vc_change_1112', 'pc_change_1112'])"
   ]
  },
  {
   "cell_type": "code",
   "execution_count": 10,
   "metadata": {
    "collapsed": true
   },
   "outputs": [],
   "source": [
    "sorted_cities = for_printing.order_by('vc_change_1112', reverse=True)"
   ]
  },
  {
   "cell_type": "code",
   "execution_count": 11,
   "metadata": {
    "collapsed": false
   },
   "outputs": [
    {
     "name": "stdout",
     "output_type": "stream",
     "text": [
      "|------------------+---------+----------------------+-----------------------|\n",
      "|  CleanName       | APStyle |       vc_change_1112 |       pc_change_1112  |\n",
      "|------------------+---------+----------------------+-----------------------|\n",
      "|  North Las Vegas | Nev.    | 117.0294494238156... | 91.02519848118743...  |\n",
      "|  Fullerton       | Calif.  | 47.71241830065359... | 10.90140845070422...  |\n",
      "|  Odessa          | Texas   | 47.45989304812834... | 18.60242501595405...  |\n",
      "|  Sioux Falls     | S.D.    | 43.40909090909090... | 7.095814743998300...  |\n",
      "|  Providence      | R.I.    | 38.67809057527539... | 30.79193310378750...  |\n",
      "|  Green Bay       | Wisc.   | 37.80160857908847... | 23.05785123966942...  |\n",
      "|  Antioch         | Calif.  | 30.56234718826405... | 22.82468370772011...  |\n",
      "|  Santa Clarita   | Calif.  | 30.53435114503816... | 6.775700934579439...  |\n",
      "|  Milwaukee       | Wisc.   | 29.98827274250293... | 0.435259328172243...  |\n",
      "|  Burbank         | Calif.  | 27.22513089005235... | -2.42661448140900...  |\n",
      "|  ...             | ...     |                  ... |                  ...  |\n",
      "|------------------+---------+----------------------+-----------------------|\n"
     ]
    }
   ],
   "source": [
    "sorted_cities.print_table(max_rows=10)"
   ]
  },
  {
   "cell_type": "markdown",
   "metadata": {},
   "source": [
    "Much better. Much much better. But, what's wrong with this? It's the percent change in the number, NOT the rate. So in order to calculate the rates, we have to create a formula that does that. To create a formula, you'll use something called Formula, but it will call a function that you'll create. This will seem like a lot, but you'll see pretty quickly that it's pretty straight forward."
   ]
  },
  {
   "cell_type": "code",
   "execution_count": 12,
   "metadata": {
    "collapsed": true
   },
   "outputs": [],
   "source": [
    "def pcvc_rate_12(row):\n",
    "    rate = (row['2012ViolentCrime']/row['2012Population'])*100000\n",
    "    return rate\n",
    "\n",
    "def pcpc_rate_12(row):\n",
    "    rate = (row['2012PropertyCrime']/row['2012Population'])*100000\n",
    "    return rate\n",
    "\n",
    "def pcvc_rate_11(row):\n",
    "    rate = (row['2011ViolentCrime']/row['2011Population'])*100000\n",
    "    return rate\n",
    "\n",
    "def pcpc_rate_11(row):\n",
    "    rate = (row['2011PropertyCrime']/row['2011Population'])*100000\n",
    "    return rate\n",
    "\n",
    "ratechange1112 = changes.compute([\n",
    "    ('vc_rate_11', agate.Formula(agate.Number(), pcvc_rate_11)),\n",
    "    ('vc_rate_12', agate.Formula(agate.Number(), pcvc_rate_12)),\n",
    "    ('pc_rate_11', agate.Formula(agate.Number(), pcpc_rate_11)),\n",
    "    ('pc_rate_12', agate.Formula(agate.Number(), pcpc_rate_12)),\n",
    "])"
   ]
  },
  {
   "cell_type": "markdown",
   "metadata": {},
   "source": [
    "Let's unpack one of the functions. You start any function by defining it -- `def` -- and giving it a name. I've called mine pcvc_rate for per capital violent crime rate and then the year. If your function takes an input -- there's information sent in with it -- then you have to tell it in the parenthesis after the name of your function. In this case, we're just giving the whole row of data to my function so we can use it. \n",
    "\n",
    "Now, inside the function we create something called rate and set it equal to a calculation. This calculation is almost EXACTLY like the Excel formulas you learned, with just a different way of referencing cells. So it says first divide row['2012ViolentCrime'] by the row['2012Population']. See how that's just the row that was passed in (called row) and then we reference WHICH FIELD WE WANT with ['2012Population'] or whatever we need as specified in our print statement earlier. Then, after we've divided those two numbers, we multiply it by 100,000 -- per capita. Then, on the next line, we return the rate. Every function has to return something. \n",
    "\n",
    "All the other functions are just the same thing with small adjustments for year or property crimes. \n",
    "\n",
    "Then, to get those rates, we create a new table called ratechange1112 and, just like our percent change calculations before, we compute new fields using our formulas. The agate.Formula bits go like this: agate.Formula(WHAT WILL THIS RETURN, WHICH FUNCTION ARE YOU USING). So in the agate.Formula parens, we tell it we're going to return an agate.Number(), and which function we are using. Simple.\n",
    "\n",
    "Then, after we've created that new table, we can do our percent change calculations on the rates."
   ]
  },
  {
   "cell_type": "code",
   "execution_count": 17,
   "metadata": {
    "collapsed": false
   },
   "outputs": [],
   "source": [
    "pctratechange1112 = ratechange1112.compute([\n",
    "    ('vcrate_change_1112', agate.PercentChange('vc_rate_11', 'vc_rate_12')),\n",
    "    ('pcrate_change_1112', agate.PercentChange('pc_rate_11', 'pc_rate_12'))\n",
    "])"
   ]
  },
  {
   "cell_type": "code",
   "execution_count": 18,
   "metadata": {
    "collapsed": true
   },
   "outputs": [],
   "source": [
    "for_rate_printing = pctratechange1112.select(['CleanName', 'APStyle', 'vcrate_change_1112', 'pcrate_change_1112'])"
   ]
  },
  {
   "cell_type": "code",
   "execution_count": 19,
   "metadata": {
    "collapsed": true
   },
   "outputs": [],
   "source": [
    "sorted_rate_cities = for_rate_printing.order_by('vcrate_change_1112', reverse=True)"
   ]
  },
  {
   "cell_type": "code",
   "execution_count": 20,
   "metadata": {
    "collapsed": false
   },
   "outputs": [
    {
     "name": "stdout",
     "output_type": "stream",
     "text": [
      "|------------------+---------+----------------------+-----------------------|\n",
      "|  CleanName       | APStyle |   vcrate_change_1112 |   pcrate_change_1112  |\n",
      "|------------------+---------+----------------------+-----------------------|\n",
      "|  North Las Vegas | Nev.    | 114.0031423601369... | 88.36150049439796...  |\n",
      "|  Fullerton       | Calif.  | 45.89341809695842... | 9.535716338404556...  |\n",
      "|  Odessa          | Texas   | 45.19467232411984... | 16.78050133548510...  |\n",
      "|  Sioux Falls     | S.D.    | 41.05990375993028... | 5.341476088543233...  |\n",
      "|  Providence      | R.I.    | 38.63755100010807... | 30.75369887816941...  |\n",
      "|  Green Bay       | Wisc.   | 35.76212398756161... | 21.23657648056043...  |\n",
      "|  Santa Clarita   | Calif.  | 29.91171172797907... | 6.266388561224838...  |\n",
      "|  Milwaukee       | Wisc.   | 29.56126399363117... | 0.105331608359479...  |\n",
      "|  Antioch         | Calif.  | 28.77939138573312... | 21.14739322369616...  |\n",
      "|  Burbank         | Calif.  | 26.61720361527003... | -2.89285508917747...  |\n",
      "|  ...             | ...     |                  ... |                  ...  |\n",
      "|------------------+---------+----------------------+-----------------------|\n"
     ]
    }
   ],
   "source": [
    "sorted_rate_cities.print_table(max_rows=10)"
   ]
  },
  {
   "cell_type": "markdown",
   "metadata": {},
   "source": [
    "But that still looks uglier than heck to me. How about we clean up those changes and limit the number of decimal places they can print. To do that, we'll have to do a little more than you might think. For technical reasons I won't get into, you can't use Python's round functions. You must use a function inside Decimal called quantize. It works almost exactly like our rate function earlier. You'll create a function, pass in the row, and just attach `.quantize` to the row[''] bits you need. This example is almost straight out of the documentation."
   ]
  },
  {
   "cell_type": "code",
   "execution_count": 21,
   "metadata": {
    "collapsed": false
   },
   "outputs": [],
   "source": [
    "from decimal import Decimal\n",
    "\n",
    "def round_vcchange(row):\n",
    "    return row['vcrate_change_1112'].quantize(Decimal('0.1'))\n",
    "\n",
    "def round_pcchange(row):\n",
    "    return row['pcrate_change_1112'].quantize(Decimal('0.1'))\n",
    "\n",
    "rounded_change = sorted_rate_cities.compute([\n",
    "    ('vc_rounded', agate.Formula(agate.Number(), round_vcchange)),\n",
    "    ('pc_rounded', agate.Formula(agate.Number(), round_pcchange)),\n",
    "])"
   ]
  },
  {
   "cell_type": "code",
   "execution_count": 22,
   "metadata": {
    "collapsed": false
   },
   "outputs": [],
   "source": [
    "for_rate_printing = rounded_change.select(['CleanName', 'APStyle', 'vc_rounded', 'pc_rounded'])"
   ]
  },
  {
   "cell_type": "code",
   "execution_count": 23,
   "metadata": {
    "collapsed": false
   },
   "outputs": [
    {
     "name": "stdout",
     "output_type": "stream",
     "text": [
      "|------------------+---------+------------+-------------|\n",
      "|  CleanName       | APStyle | vc_rounded | pc_rounded  |\n",
      "|------------------+---------+------------+-------------|\n",
      "|  North Las Vegas | Nev.    |      114.0 |       88.4  |\n",
      "|  Fullerton       | Calif.  |       45.9 |        9.5  |\n",
      "|  Odessa          | Texas   |       45.2 |       16.8  |\n",
      "|  Sioux Falls     | S.D.    |       41.1 |        5.3  |\n",
      "|  Providence      | R.I.    |       38.6 |       30.8  |\n",
      "|  Green Bay       | Wisc.   |       35.8 |       21.2  |\n",
      "|  Santa Clarita   | Calif.  |       29.9 |        6.3  |\n",
      "|  Milwaukee       | Wisc.   |       29.6 |        0.1  |\n",
      "|  Antioch         | Calif.  |       28.8 |       21.1  |\n",
      "|  Burbank         | Calif.  |       26.6 |       -2.9  |\n",
      "|  Escondido       | Calif.  |       25.3 |       19.6  |\n",
      "|  Carlsbad        | Calif.  |       24.7 |        5.8  |\n",
      "|  Santa Clara     | Calif.  |       23.3 |       11.3  |\n",
      "|  Surprise        | Ariz.   |       22.0 |       -5.5  |\n",
      "|  Springfield     | Mo.     |       21.5 |        0.0  |\n",
      "|  Simi Valley     | Calif.  |       20.6 |       10.0  |\n",
      "|  Bridgeport      | Conn.   |       20.4 |       -9.1  |\n",
      "|  Oakland         | Calif.  |       18.4 |       24.7  |\n",
      "|  Fort Wayne      | Ind.    |       18.0 |        4.6  |\n",
      "|  Round Rock      | Texas   |       17.7 |        3.5  |\n",
      "|  ...             | ...     |        ... |        ...  |\n",
      "|------------------+---------+------------+-------------|\n"
     ]
    }
   ],
   "source": [
    "for_rate_printing.print_table()"
   ]
  },
  {
   "cell_type": "markdown",
   "metadata": {},
   "source": [
    "# Assignment\n",
    "This is an assignment I've given to 202 and 302 students with Excel. If you've taken a class with me, or been in 302 when I was there, you've done this before in Excel. Now you're going to do it with Agate.\n",
    "\n",
    "1. Download [this dataset of population estimates](https://www.dropbox.com/s/p5isgdfgpam7w13/population.csv?dl=0) from the US Census Bureau. \n",
    "2. Calculate the percent change in population for every county in the US from 2010 to 2014. \n",
    "3. Round that change off to a single decimal point. \n",
    "4. Sort it fastest growing to fastest shrinking. Print it to the screen but limit it to 50.\n",
    "\n",
    "After you've done that, submit it to Blackboard and enjoy this NYTimes story about [the end of the North Dakota oil boom](http://www.nytimes.com/2016/02/08/us/built-up-by-oil-boom-north-dakota-now-has-an-emptier-feeling.html)."
   ]
  },
  {
   "cell_type": "code",
   "execution_count": null,
   "metadata": {
    "collapsed": true
   },
   "outputs": [],
   "source": []
  }
 ],
 "metadata": {
  "kernelspec": {
   "display_name": "Python 3",
   "language": "python",
   "name": "python3"
  },
  "language_info": {
   "codemirror_mode": {
    "name": "ipython",
    "version": 3
   },
   "file_extension": ".py",
   "mimetype": "text/x-python",
   "name": "python",
   "nbconvert_exporter": "python",
   "pygments_lexer": "ipython3",
   "version": "3.5.1"
  }
 },
 "nbformat": 4,
 "nbformat_minor": 0
}
