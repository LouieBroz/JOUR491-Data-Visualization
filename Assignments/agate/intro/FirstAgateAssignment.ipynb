{
 "cells": [
  {
   "cell_type": "markdown",
   "metadata": {},
   "source": [
    "# First Agate Assignment\n",
    "\n",
    "With this assignment, we need to import some data, filter out non-UNL campuses and calculate a average salary and a median salart for all UNL employees. The first step is always import the libraries you need. For now and the forseeable future, we just need Agate."
   ]
  },
  {
   "cell_type": "code",
   "execution_count": 2,
   "metadata": {
    "collapsed": true
   },
   "outputs": [],
   "source": [
    "import agate"
   ]
  },
  {
   "cell_type": "markdown",
   "metadata": {},
   "source": [
    "Let's add some data. "
   ]
  },
  {
   "cell_type": "code",
   "execution_count": 5,
   "metadata": {
    "collapsed": false
   },
   "outputs": [],
   "source": [
    "salaries = agate.Table.from_csv('../../Data/nusalaries1415.csv')"
   ]
  },
  {
   "cell_type": "code",
   "execution_count": 7,
   "metadata": {
    "collapsed": false
   },
   "outputs": [
    {
     "name": "stdout",
     "output_type": "stream",
     "text": [
      "|-------------------+---------------|\n",
      "|  column_names     | column_types  |\n",
      "|-------------------+---------------|\n",
      "|  ID               | Number        |\n",
      "|  Campus           | Text          |\n",
      "|  DepartmentNumber | Date          |\n",
      "|  DepartmentName   | Text          |\n",
      "|  CostElement      | Number        |\n",
      "|  Name             | Text          |\n",
      "|  Title            | Text          |\n",
      "|  Position         | Number        |\n",
      "|  Class            | Number        |\n",
      "|  Term             | Number        |\n",
      "|  FTE              | Number        |\n",
      "|  Salary           | Number        |\n",
      "|-------------------+---------------|\n",
      "\n"
     ]
    }
   ],
   "source": [
    "print(salaries)"
   ]
  },
  {
   "cell_type": "markdown",
   "metadata": {},
   "source": [
    "Now we just want UNL, so we need to filter those out. "
   ]
  },
  {
   "cell_type": "code",
   "execution_count": 8,
   "metadata": {
    "collapsed": true
   },
   "outputs": [],
   "source": [
    "unl = salaries.where(lambda row: row['Campus'] is 'University of Nebraska-Lincoln')"
   ]
  },
  {
   "cell_type": "code",
   "execution_count": 9,
   "metadata": {
    "collapsed": false
   },
   "outputs": [
    {
     "name": "stdout",
     "output_type": "stream",
     "text": [
      "0\n"
     ]
    }
   ],
   "source": [
    "print(len(unl.rows))"
   ]
  },
  {
   "cell_type": "markdown",
   "metadata": {},
   "source": [
    "Uh oh. How could this be? The answer is almost always a bad filter condition. In this case, it's not title cased, it should be all caps. And there's a space between the dash on both sides."
   ]
  },
  {
   "cell_type": "code",
   "execution_count": 10,
   "metadata": {
    "collapsed": true
   },
   "outputs": [],
   "source": [
    "unl = salaries.where(lambda row: row['Campus'] is 'UNIVERSITY OF NEBRASKA - LINCOLN')"
   ]
  },
  {
   "cell_type": "code",
   "execution_count": 11,
   "metadata": {
    "collapsed": false
   },
   "outputs": [
    {
     "name": "stdout",
     "output_type": "stream",
     "text": [
      "0\n"
     ]
    }
   ],
   "source": [
    "print(len(unl.rows))"
   ]
  },
  {
   "cell_type": "markdown",
   "metadata": {},
   "source": [
    "Now, what the hell? That should work, right? Well, not exactly. We need to set our row equal to UNIVERISTY ... and we can't use the regular `=` to do it. We need to use `==` which in Python is actually equal to. The single equal sign is for assigning varables. "
   ]
  },
  {
   "cell_type": "code",
   "execution_count": 12,
   "metadata": {
    "collapsed": true
   },
   "outputs": [],
   "source": [
    "unl = salaries.where(lambda row: row['Campus'] == 'UNIVERSITY OF NEBRASKA - LINCOLN')"
   ]
  },
  {
   "cell_type": "code",
   "execution_count": 13,
   "metadata": {
    "collapsed": false
   },
   "outputs": [
    {
     "name": "stdout",
     "output_type": "stream",
     "text": [
      "6948\n"
     ]
    }
   ],
   "source": [
    "print(len(unl.rows))"
   ]
  },
  {
   "cell_type": "markdown",
   "metadata": {},
   "source": [
    "That's better. Now let's create an average salary."
   ]
  }
 ],
 "metadata": {
  "kernelspec": {
   "display_name": "Python 3",
   "language": "python",
   "name": "python3"
  },
  "language_info": {
   "codemirror_mode": {
    "name": "ipython",
    "version": 3
   },
   "file_extension": ".py",
   "mimetype": "text/x-python",
   "name": "python",
   "nbconvert_exporter": "python",
   "pygments_lexer": "ipython3",
   "version": "3.5.1"
  }
 },
 "nbformat": 4,
 "nbformat_minor": 0
}
