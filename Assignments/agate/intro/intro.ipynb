{
 "cells": [
  {
   "cell_type": "markdown",
   "metadata": {},
   "source": [
    "# An introduction to Agate\n",
    "\n",
    "Agate is a Python library that makes analyzing data repeatable and transparent. Steps to get an answer are explicit and documented, and easily sharable in Github or as Markdown files exported from Jupyter Notebook. \n",
    "\n",
    "The first step is always import libraries needed. In this case, it's Agate"
   ]
  },
  {
   "cell_type": "code",
   "execution_count": 2,
   "metadata": {
    "collapsed": false
   },
   "outputs": [],
   "source": [
    "import agate"
   ]
  },
  {
   "cell_type": "markdown",
   "metadata": {},
   "source": [
    "Our next step is to get some data to work with. I've created a file that has the graduation rates, in-state and out-of-state costs for each university in the Big 10 athletic conference. It's a simple file, with 14 records, that we can demonstrate functions and processes that data journalists would normally use a spreadshseet for. So let's first make an Agate table from that CSV file. It's easy. "
   ]
  },
  {
   "cell_type": "code",
   "execution_count": 4,
   "metadata": {
    "collapsed": false
   },
   "outputs": [],
   "source": [
    "big10 = agate.Table.from_csv('../../../Data/colleges.csv')"
   ]
  },
  {
   "cell_type": "markdown",
   "metadata": {},
   "source": [
    "To see the table structure that we just imported, we simply put the table name inside a print function."
   ]
  },
  {
   "cell_type": "code",
   "execution_count": 5,
   "metadata": {
    "collapsed": false
   },
   "outputs": [
    {
     "name": "stdout",
     "output_type": "stream",
     "text": [
      "|-----------------------------------------------------------------------------+---------------|\n",
      "|  column_names                                                               | column_types  |\n",
      "|-----------------------------------------------------------------------------+---------------|\n",
      "|  UnitID                                                                     | Number        |\n",
      "|  Institution Name                                                           | Text          |\n",
      "|  Total price for in-state students living on campus 2012-13 (DRVIC2012)     | Number        |\n",
      "|  Total price for out-of-state students living on campus 2012-13 (DRVIC2012) | Number        |\n",
      "|  Graduation rate  total cohort (DRVGR2012)                                  | Number        |\n",
      "|-----------------------------------------------------------------------------+---------------|\n",
      "\n"
     ]
    }
   ],
   "source": [
    "print(big10)"
   ]
  },
  {
   "cell_type": "markdown",
   "metadata": {},
   "source": [
    "If we want to see the table itself, we use `print_table()` like this: "
   ]
  },
  {
   "cell_type": "code",
   "execution_count": 6,
   "metadata": {
    "collapsed": false
   },
   "outputs": [
    {
     "name": "stdout",
     "output_type": "stream",
     "text": [
      "|----------+--------------------------------------------+------------------------------------------------------------------------+----------------------------------------------------------------------------+--------------------------------------------|\n",
      "|   UnitID | Institution Name                           | Total price for in-state students living on campus 2012-13 (DRVIC2012) | Total price for out-of-state students living on campus 2012-13 (DRVIC2012) | Graduation rate  total cohort (DRVGR2012)  |\n",
      "|----------+--------------------------------------------+------------------------------------------------------------------------+----------------------------------------------------------------------------+--------------------------------------------|\n",
      "|  151,351 | Indiana University-Bloomington             |                                                                 23,116 |                                                                     44,566 |                                        75  |\n",
      "|  171,100 | Michigan State University                  |                                                                 24,028 |                                                                     43,986 |                                        79  |\n",
      "|  147,767 | Northwestern University                    |                                                                 60,840 |                                                                     60,840 |                                        93  |\n",
      "|  204,796 | Ohio State University-Main Campus          |                                                                 24,919 |                                                                     40,327 |                                        82  |\n",
      "|  214,777 | Pennsylvania State University-Main Campus  |                                                                 31,854 |                                                                     44,156 |                                        86  |\n",
      "|  243,780 | Purdue University-Main Campus              |                                                                 23,468 |                                                                     42,270 |                                        69  |\n",
      "|  186,380 | Rutgers University-New Brunswick           |                                                                 28,798 |                                                                     42,118 |                                        79  |\n",
      "|  145,637 | University of Illinois at Urbana-Champaign |                                                                 28,564 |                                                                     42,706 |                                        84  |\n",
      "|  153,658 | University of Iowa                         |                                                                 21,832 |                                                                     40,054 |                                        70  |\n",
      "|  163,286 | University of Maryland-College Park        |                                                                 23,346 |                                                                     41,725 |                                        82  |\n",
      "|  170,976 | University of Michigan-Ann Arbor           |                                                                 25,848 |                                                                     51,976 |                                        91  |\n",
      "|  174,066 | University of Minnesota-Twin Cities        |                                                                 25,065 |                                                                     30,315 |                                        73  |\n",
      "|  181,464 | University of Nebraska-Lincoln             |                                                                 21,700 |                                                                     34,450 |                                        65  |\n",
      "|  240,444 | University of Wisconsin-Madison            |                                                                 23,762 |                                                                     40,012 |                                        82  |\n",
      "|----------+--------------------------------------------+------------------------------------------------------------------------+----------------------------------------------------------------------------+--------------------------------------------|\n"
     ]
    }
   ],
   "source": [
    "big10.print_table()"
   ]
  },
  {
   "cell_type": "markdown",
   "metadata": {},
   "source": [
    "But that's rarely useful. We want to see it in some kind of order. Let's sort the table by graduation rate and see who is doing well and who isn't. "
   ]
  },
  {
   "cell_type": "code",
   "execution_count": 7,
   "metadata": {
    "collapsed": false,
    "scrolled": true
   },
   "outputs": [
    {
     "name": "stdout",
     "output_type": "stream",
     "text": [
      "|----------+--------------------------------------------+------------------------------------------------------------------------+----------------------------------------------------------------------------+--------------------------------------------|\n",
      "|   UnitID | Institution Name                           | Total price for in-state students living on campus 2012-13 (DRVIC2012) | Total price for out-of-state students living on campus 2012-13 (DRVIC2012) | Graduation rate  total cohort (DRVGR2012)  |\n",
      "|----------+--------------------------------------------+------------------------------------------------------------------------+----------------------------------------------------------------------------+--------------------------------------------|\n",
      "|  147,767 | Northwestern University                    |                                                                 60,840 |                                                                     60,840 |                                        93  |\n",
      "|  170,976 | University of Michigan-Ann Arbor           |                                                                 25,848 |                                                                     51,976 |                                        91  |\n",
      "|  214,777 | Pennsylvania State University-Main Campus  |                                                                 31,854 |                                                                     44,156 |                                        86  |\n",
      "|  145,637 | University of Illinois at Urbana-Champaign |                                                                 28,564 |                                                                     42,706 |                                        84  |\n",
      "|  204,796 | Ohio State University-Main Campus          |                                                                 24,919 |                                                                     40,327 |                                        82  |\n",
      "|  163,286 | University of Maryland-College Park        |                                                                 23,346 |                                                                     41,725 |                                        82  |\n",
      "|  240,444 | University of Wisconsin-Madison            |                                                                 23,762 |                                                                     40,012 |                                        82  |\n",
      "|  171,100 | Michigan State University                  |                                                                 24,028 |                                                                     43,986 |                                        79  |\n",
      "|  186,380 | Rutgers University-New Brunswick           |                                                                 28,798 |                                                                     42,118 |                                        79  |\n",
      "|  151,351 | Indiana University-Bloomington             |                                                                 23,116 |                                                                     44,566 |                                        75  |\n",
      "|  174,066 | University of Minnesota-Twin Cities        |                                                                 25,065 |                                                                     30,315 |                                        73  |\n",
      "|  153,658 | University of Iowa                         |                                                                 21,832 |                                                                     40,054 |                                        70  |\n",
      "|  243,780 | Purdue University-Main Campus              |                                                                 23,468 |                                                                     42,270 |                                        69  |\n",
      "|  181,464 | University of Nebraska-Lincoln             |                                                                 21,700 |                                                                     34,450 |                                        65  |\n",
      "|----------+--------------------------------------------+------------------------------------------------------------------------+----------------------------------------------------------------------------+--------------------------------------------|\n"
     ]
    }
   ],
   "source": [
    "big10.order_by('Graduation rate  total cohort (DRVGR2012)', reverse=True).print_table()"
   ]
  },
  {
   "cell_type": "markdown",
   "metadata": {},
   "source": [
    "But as great as that is, it's still hard to read. Agate has a neat feature called `print_bars` where you can make a little chart right as you go. "
   ]
  },
  {
   "cell_type": "code",
   "execution_count": 6,
   "metadata": {
    "collapsed": false
   },
   "outputs": [
    {
     "name": "stdout",
     "output_type": "stream",
     "text": [
      "Institution Name                           Graduation rate  total cohort (DRVGR2012)\n",
      "Northwestern University                                                           93 ▓░░░░░░░░░░░░░░░░░░░░░░░░░░░  \n",
      "University of Michigan-Ann Arbor                                                  91 ▓░░░░░░░░░░░░░░░░░░░░░░░░░░   \n",
      "Pennsylvania State University-Main Campus                                         86 ▓░░░░░░░░░░░░░░░░░░░░░░░░░    \n",
      "University of Illinois at Urbana-Champaign                                        84 ▓░░░░░░░░░░░░░░░░░░░░░░░░     \n",
      "Ohio State University-Main Campus                                                 82 ▓░░░░░░░░░░░░░░░░░░░░░░░░     \n",
      "University of Maryland-College Park                                               82 ▓░░░░░░░░░░░░░░░░░░░░░░░░     \n",
      "University of Wisconsin-Madison                                                   82 ▓░░░░░░░░░░░░░░░░░░░░░░░░     \n",
      "Michigan State University                                                         79 ▓░░░░░░░░░░░░░░░░░░░░░░░      \n",
      "Rutgers University-New Brunswick                                                  79 ▓░░░░░░░░░░░░░░░░░░░░░░░      \n",
      "Indiana University-Bloomington                                                    75 ▓░░░░░░░░░░░░░░░░░░░░░░       \n",
      "University of Minnesota-Twin Cities                                               73 ▓░░░░░░░░░░░░░░░░░░░░░        \n",
      "University of Iowa                                                                70 ▓░░░░░░░░░░░░░░░░░░░░         \n",
      "Purdue University-Main Campus                                                     69 ▓░░░░░░░░░░░░░░░░░░░░         \n",
      "University of Nebraska-Lincoln                                                    65 ▓░░░░░░░░░░░░░░░░░░░          \n",
      "                                                                                     +------+------+-------+------+\n",
      "                                                                                     0     25     50      75    100\n"
     ]
    }
   ],
   "source": [
    "big10.order_by('Graduation rate  total cohort (DRVGR2012)', reverse=True).print_bars('Institution Name', 'Graduation rate  total cohort (DRVGR2012)', width=115)"
   ]
  },
  {
   "cell_type": "markdown",
   "metadata": {},
   "source": [
    "Okay, so the Harvard of the Plains doesn't have such a hot graduation rate. But what else can we do? What about the average tuition? "
   ]
  },
  {
   "cell_type": "code",
   "execution_count": 8,
   "metadata": {
    "collapsed": true
   },
   "outputs": [],
   "source": [
    "average_tuition = big10.aggregate(agate.Mean('Total price for in-state students living on campus 2012-13 (DRVIC2012)'))"
   ]
  },
  {
   "cell_type": "code",
   "execution_count": 9,
   "metadata": {
    "collapsed": false
   },
   "outputs": [
    {
     "name": "stdout",
     "output_type": "stream",
     "text": [
      "27652.85714285714285714285714\n"
     ]
    }
   ],
   "source": [
    "print(average_tuition)"
   ]
  },
  {
   "cell_type": "markdown",
   "metadata": {},
   "source": [
    "The median tuition is just as easy -- you change the variable name and the type of aggregate and boom, done. "
   ]
  },
  {
   "cell_type": "code",
   "execution_count": 9,
   "metadata": {
    "collapsed": true
   },
   "outputs": [],
   "source": [
    "median_tuition = big10.aggregate(agate.Median('Total price for in-state students living on campus 2012-13 (DRVIC2012)'))"
   ]
  },
  {
   "cell_type": "code",
   "execution_count": 10,
   "metadata": {
    "collapsed": false
   },
   "outputs": [
    {
     "name": "stdout",
     "output_type": "stream",
     "text": [
      "24473.5\n"
     ]
    }
   ],
   "source": [
    "print(median_tuition)"
   ]
  }
 ],
 "metadata": {
  "kernelspec": {
   "display_name": "Python 3",
   "language": "python",
   "name": "python3"
  },
  "language_info": {
   "codemirror_mode": {
    "name": "ipython",
    "version": 3
   },
   "file_extension": ".py",
   "mimetype": "text/x-python",
   "name": "python",
   "nbconvert_exporter": "python",
   "pygments_lexer": "ipython3",
   "version": "3.5.1"
  }
 },
 "nbformat": 4,
 "nbformat_minor": 0
}
